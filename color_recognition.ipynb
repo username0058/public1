{
 "cells": [
  {
   "cell_type": "code",
   "execution_count": 1,
   "metadata": {},
   "outputs": [],
   "source": [
    "import cv2\n",
    "import numpy as np\n",
    "\n",
    "img = cv2.imread('D:\\\\Python\\\\Lib\\\\site-packages\\\\cv2\\\\opencvfiles\\\\image-20221027164357622.png')\n",
    "hsv_image = cv2.cvtColor(img, cv2.COLOR_BGR2HSV)\n",
    "\n",
    "low_range = np.array([0, 43, 46])\n",
    "high_range = np.array([10, 255, 255])\n",
    "r1 = cv2.inRange(hsv_image, low_range, high_range)\n",
    "\n",
    "dilated = cv2.dilate(r1, cv2.getStructuringElement(cv2.MORPH_ELLIPSE, (3, 3)), iterations=2)\n",
    "kernel = cv2.getStructuringElement(cv2.MORPH_RECT, (7, 7))\n",
    "r2 = cv2.morphologyEx(dilated, cv2.MORPH_OPEN, kernel)\n",
    "\n",
    "contours, hierarchy = cv2.findContours(r2, cv2.RETR_TREE, cv2.CHAIN_APPROX_NONE)\n",
    "\n",
    "for c in contours:\n",
    "    r3 = cv2.minAreaRect(c)\n",
    "    box = cv2.boxPoints(r3)\n",
    "    box = np.int0(box)\n",
    "    cv2.drawContours(img, [box], -1, (0,0, 255), 2)\n",
    "    (x,y),radius = cv2.minEnclosingCircle(c)\n",
    "\n",
    "cv2.putText(img,str(round(x,1))+ \" \" + str(round(y,1)),(60,400),2,1,(0,0,255))\n",
    "cv2.imshow('result', img)\n",
    "cv2.waitKey(0)\n",
    "cv2.destroyAllWindows()\n"
   ]
  }
 ],
 "metadata": {
  "kernelspec": {
   "display_name": "Python 3",
   "language": "python",
   "name": "python3"
  },
  "language_info": {
   "codemirror_mode": {
    "name": "ipython",
    "version": 3
   },
   "file_extension": ".py",
   "mimetype": "text/x-python",
   "name": "python",
   "nbconvert_exporter": "python",
   "pygments_lexer": "ipython3",
   "version": "3.8.2"
  },
  "orig_nbformat": 4,
  "vscode": {
   "interpreter": {
    "hash": "2469a70536e4d2335a2ea8907942d0699c37342a371ac185bdb5b0aa6f073890"
   }
  }
 },
 "nbformat": 4,
 "nbformat_minor": 2
}
